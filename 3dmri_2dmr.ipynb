{
  "nbformat": 4,
  "nbformat_minor": 0,
  "metadata": {
    "colab": {
      "provenance": []
    },
    "kernelspec": {
      "name": "python3",
      "display_name": "Python 3"
    }
  },
  "cells": [
    {
      "cell_type": "code",
      "metadata": {
        "id": "VrCLzsi787iA"
      },
      "source": [
        "!unzip '/content/drive/My Drive/T1-brain.zip'"
      ],
      "execution_count": null,
      "outputs": []
    },
    {
      "cell_type": "code",
      "metadata": {
        "id": "iqjGKAKQ97mT"
      },
      "source": [
        "import glob\n",
        "%matplotlib inline\n",
        "import nibabel as nib #reading MR images\n",
        "import cv2\n",
        "import os\n",
        "ff = glob.glob('t1/*')\n",
        "x = sorted(ff)"
      ],
      "execution_count": null,
      "outputs": []
    },
    {
      "cell_type": "code",
      "metadata": {
        "id": "CCBuw52o-L5Y"
      },
      "source": [
        "images=[]"
      ],
      "execution_count": null,
      "outputs": []
    },
    {
      "cell_type": "code",
      "metadata": {
        "id": "XZSQG9qxA17k"
      },
      "source": [
        "ff2=[]"
      ],
      "execution_count": null,
      "outputs": []
    },
    {
      "cell_type": "code",
      "metadata": {
        "id": "sWqj4PwfBAu_"
      },
      "source": [
        "ff2=ff[301:400]"
      ],
      "execution_count": null,
      "outputs": []
    },
    {
      "cell_type": "code",
      "metadata": {
        "id": "rEoFLfCEBSpL"
      },
      "source": [
        "ff2=sorted(ff2)"
      ],
      "execution_count": null,
      "outputs": []
    },
    {
      "cell_type": "code",
      "metadata": {
        "id": "0iToc-5U-JuX"
      },
      "source": [
        "for f in range(len(ff2)):\n",
        "  a=nib.load(ff2[f])\n",
        "  a=a.get_data()\n",
        "  a = a[120:180,:,:]\n",
        "  for i in range(a.shape[0]):\n",
        "    img_2d=a[i,:,:]\n",
        "    img=cv2.resize(img_2d,(128,128), interpolation = cv2.INTER_AREA)\n",
        "    images.append(img)\n",
        "print (a.shape)"
      ],
      "execution_count": null,
      "outputs": []
    },
    {
      "cell_type": "code",
      "metadata": {
        "id": "xVM_0JABCqNN",
        "outputId": "93095dec-ab0b-4c02-d8c1-aacf54d20755",
        "colab": {
          "base_uri": "https://localhost:8080/",
          "height": 35
        }
      },
      "source": [
        "len(images)"
      ],
      "execution_count": null,
      "outputs": [
        {
          "output_type": "execute_result",
          "data": {
            "text/plain": [
              "5940"
            ]
          },
          "metadata": {
            "tags": []
          },
          "execution_count": 10
        }
      ]
    },
    {
      "cell_type": "code",
      "metadata": {
        "id": "wG_fuAqqDZNZ",
        "outputId": "f2b57842-5a1a-4d8c-94e1-8565725331e8",
        "colab": {
          "base_uri": "https://localhost:8080/",
          "height": 254
        }
      },
      "source": [
        "images[2]"
      ],
      "execution_count": null,
      "outputs": [
        {
          "output_type": "execute_result",
          "data": {
            "text/plain": [
              "array([[15.44935011, 19.98115854, 25.46052863, ..., 26.69647655,\n",
              "        21.81448139, 28.44740339],\n",
              "       [ 7.08610187, 12.35947954, 13.0392513 , ..., 13.34823827,\n",
              "        25.6459201 , 11.35012235],\n",
              "       [20.04295696, 13.08044915, 26.69647655, ..., 17.85944847,\n",
              "        34.91552975, 15.3463542 ],\n",
              "       ...,\n",
              "       [ 0.        ,  0.        ,  0.        , ...,  0.        ,\n",
              "         0.        ,  0.        ],\n",
              "       [ 0.        ,  0.        ,  0.        , ...,  0.        ,\n",
              "         0.        ,  0.        ],\n",
              "       [ 0.        ,  0.        ,  0.        , ...,  0.        ,\n",
              "         0.        ,  0.        ]])"
            ]
          },
          "metadata": {
            "tags": []
          },
          "execution_count": 11
        }
      ]
    },
    {
      "cell_type": "code",
      "metadata": {
        "id": "r-Mt7Ln1Avlr"
      },
      "source": [
        "%matplotlib inline\n",
        "import matplotlib\n",
        "from PIL import Image\n",
        "#import matplotlib.pyplot as plt\n",
        "#import matplotlib.image as mpimg\n",
        "path='/content/T1'\n",
        "num=1200\n",
        "for img in images:\n",
        "  path=path+'/'+ str(num)+'.png'\n",
        "  #img = mpimg.imread(img)\n",
        "  matplotlib.image.imsave(path, img)\n",
        "  num=num+1\n",
        "  path='/content/T1'"
      ],
      "execution_count": null,
      "outputs": []
    },
    {
      "cell_type": "code",
      "metadata": {
        "id": "a_X2--uw92Lb"
      },
      "source": [
        "list=[]"
      ],
      "execution_count": null,
      "outputs": []
    },
    {
      "cell_type": "code",
      "metadata": {
        "id": "8AdzbX3u1UfF"
      },
      "source": [
        "import glob\n",
        "import os\n",
        "num=1\n",
        "for items in glob.glob(\"/content/T1/*.png\"):\n",
        "  items='%s' % items\n",
        "  path='/content/T1-Test-1'\n",
        "  img=cv2.imread(items)\n",
        "  gray_img=cv2.cvtColor(img,cv2.COLOR_BGR2GRAY)\n",
        "  path=path+'/'+ str(num)+'.png'\n",
        "  cv2.imwrite( path, gray_img )\n",
        "  path='/content/T1-Test1-1'\n",
        "  num=num+1"
      ],
      "execution_count": null,
      "outputs": []
    },
    {
      "cell_type": "code",
      "metadata": {
        "id": "MeibmHDCBIMF"
      },
      "source": [
        "\n",
        "from zipfile import ZipFile\n",
        "zipObj = ZipFile('T1_Test', 'w')"
      ],
      "execution_count": null,
      "outputs": []
    },
    {
      "cell_type": "code",
      "metadata": {
        "id": "HA2Tv9OxBYC6"
      },
      "source": [
        "for items in glob.glob('/content/T1-Test-1/*.png'):\n",
        "  zipObj.write(items)"
      ],
      "execution_count": null,
      "outputs": []
    },
    {
      "cell_type": "code",
      "metadata": {
        "id": "QA4FmOqAEwmt"
      },
      "source": [
        "items=[]"
      ],
      "execution_count": null,
      "outputs": []
    },
    {
      "cell_type": "code",
      "metadata": {
        "id": "Ilmvb67nBxP0"
      },
      "source": [
        "for items in glob.glob('/content/T1-Test-1/*.png'):\n",
        "  print(items)\n",
        ""
      ],
      "execution_count": null,
      "outputs": []
    },
    {
      "cell_type": "code",
      "metadata": {
        "id": "PhMpg2qUE-no"
      },
      "source": [
        "len(items)"
      ],
      "execution_count": null,
      "outputs": []
    },
    {
      "cell_type": "code",
      "metadata": {
        "id": "9Q2oPGrnKblP"
      },
      "source": [
        "for items in glob.glob('/content/T1/*.png'):\n",
        "  gray_img = cv2.cvtColor(bgr_img, cv2.COLOR_BGR2GRAY)"
      ],
      "execution_count": null,
      "outputs": []
    },
    {
      "cell_type": "code",
      "metadata": {
        "id": "U9PtMyqMME9p"
      },
      "source": [
        "img=cv2.imread('T1/2474.png')\n",
        "gray_img=cv2.cvtColor(img,cv2.COLOR_BGR2GRAY)"
      ],
      "execution_count": null,
      "outputs": []
    },
    {
      "cell_type": "code",
      "metadata": {
        "id": "qV99xffSM6bZ",
        "outputId": "0e7d6e3f-bd2d-4946-ec55-4c58b1dd8b95",
        "colab": {
          "base_uri": "https://localhost:8080/",
          "height": 145
        }
      },
      "source": [
        "from google.colab.patches import cv2_imshow\n",
        "cv2_imshow(gray_img)"
      ],
      "execution_count": null,
      "outputs": [
        {
          "output_type": "display_data",
          "data": {
            "image/png": "[encoded data removed]",
            "text/plain": [
              "<PIL.Image.Image image mode=L size=128x128 at 0x7F3B83D54588>"
            ]
          },
          "metadata": {
            "tags": []
          }
        }
      ]
    }
  ]
}